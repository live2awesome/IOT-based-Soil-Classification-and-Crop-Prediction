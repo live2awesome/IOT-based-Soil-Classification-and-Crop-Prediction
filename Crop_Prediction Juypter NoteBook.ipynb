{
  "nbformat": 4,
  "nbformat_minor": 0,
  "metadata": {
    "celltoolbar": "Tags",
    "kernelspec": {
      "display_name": "Python 3",
      "language": "python",
      "name": "python3"
    },
    "language_info": {
      "codemirror_mode": {
        "name": "ipython",
        "version": 3
      },
      "file_extension": ".py",
      "mimetype": "text/x-python",
      "name": "python",
      "nbconvert_exporter": "python",
      "pygments_lexer": "ipython3",
      "version": "3.6.3"
    },
    "notice": "Copyright 2017 Amazon.com, Inc. or its affiliates. All Rights Reserved.  Licensed under the Apache License, Version 2.0 (the License). You may not use this file except in compliance with the License. A copy of the License is located at http://aws.amazon.com/apache2.0/ or in the license file accompanying this file. This file is distributed on an AS IS BASIS, WITHOUT WARRANTIES OR CONDITIONS OF ANY KIND, either express or implied. See the License for the specific language governing permissions and limitations under the License.",
    "colab": {
      "name": "Crop Prediction.ipynb",
      "provenance": []
    }
  },
  "cells": [
    {
      "cell_type": "markdown",
      "metadata": {
        "nbpresent": {
          "id": "42b5e80b-ad1d-4335-a1f7-10a91127e3dc"
        },
        "id": "7WWKq4iB-xtZ",
        "colab_type": "text"
      },
      "source": [
        "# Crop Prediction \n",
        "_**Predict Crops using SageMaker's Linear-Learner with features derived from soil sensor**_\n",
        "\n",
        "\n",
        "\n"
      ]
    },
    {
      "cell_type": "code",
      "metadata": {
        "isConfigCell": true,
        "nbpresent": {
          "id": "6427e831-8f89-45c0-b150-0b134397d79a"
        },
        "tags": [
          "parameters"
        ],
        "id": "0FTOqBEE-xtz",
        "colab_type": "code",
        "colab": {}
      },
      "source": [
        "import os\n",
        "import boto3\n",
        "import re\n",
        "from sagemaker import get_execution_role\n",
        "\n",
        "role = get_execution_role()\n",
        "\n",
        "bucket = 'willbethegame'# enter your s3 bucket where you will copy data and model artifacts\n",
        "prefix = 'sagemaker/DEMO-crop-prediction' # place to upload training files within the bucket"
      ],
      "execution_count": null,
      "outputs": []
    },
    {
      "cell_type": "markdown",
      "metadata": {
        "nbpresent": {
          "id": "b2548d66-6f8f-426f-9cda-7a3cd1459abd"
        },
        "id": "8SrAMMZT-xu7",
        "colab_type": "text"
      },
      "source": [
        "Now we'll import the Python libraries we'll need."
      ]
    },
    {
      "cell_type": "code",
      "metadata": {
        "nbpresent": {
          "id": "bb88eea9-27f3-4e47-9133-663911ea09a9"
        },
        "id": "1rXrGUaP-xu9",
        "colab_type": "code",
        "colab": {}
      },
      "source": [
        "import pandas as pd\n",
        "import numpy as np\n",
        "import matplotlib.pyplot as plt\n",
        "import io\n",
        "import time\n",
        "import json\n",
        "import sagemaker.amazon.common as smac"
      ],
      "execution_count": null,
      "outputs": []
    },
    {
      "cell_type": "code",
      "metadata": {
        "nbpresent": {
          "id": "f8976dad-6897-4c7e-8c95-ae2f53070ef5"
        },
        "id": "ul5qV4Ae-xvE",
        "colab_type": "code",
        "colab": {},
        "outputId": "b77bd3ed-aec5-43db-ad97-6c03258cf4b6"
      },
      "source": [
        "data = pd.read_csv('https://raw.githubusercontent.com/awesome2live/cropiotdataset/master/cpdata.csv', header = None)\n",
        "\n",
        "# specify columns extracted from wbdc.names\n",
        "data.columns = [\"AirTemperature\",\"AirHumidity\",\"Ph\",\"rainfall\",\"label\"] \n",
        "\n",
        "# save the data\n",
        "data.to_csv(\"data.csv\", sep=',', index=False)\n",
        "\n",
        "# print the shape of the data file\n",
        "print(data.shape)\n",
        "\n",
        "# show the top few rows\n",
        "display(data.head())\n",
        "\n",
        "# describe the data object\n",
        "display(data.describe())\n",
        "\n",
        "# we will also summarize the categorical field diganosis \n",
        "#display(data.label.value_counts())\n",
        "data.drop(0,inplace=True)\n",
        "\n",
        "display(data)"
      ],
      "execution_count": null,
      "outputs": [
        {
          "output_type": "stream",
          "text": [
            "(3101, 5)\n"
          ],
          "name": "stdout"
        },
        {
          "output_type": "display_data",
          "data": {
            "text/html": [
              "<div>\n",
              "<style scoped>\n",
              "    .dataframe tbody tr th:only-of-type {\n",
              "        vertical-align: middle;\n",
              "    }\n",
              "\n",
              "    .dataframe tbody tr th {\n",
              "        vertical-align: top;\n",
              "    }\n",
              "\n",
              "    .dataframe thead th {\n",
              "        text-align: right;\n",
              "    }\n",
              "</style>\n",
              "<table border=\"1\" class=\"dataframe\">\n",
              "  <thead>\n",
              "    <tr style=\"text-align: right;\">\n",
              "      <th></th>\n",
              "      <th>AirTemperature</th>\n",
              "      <th>AirHumidity</th>\n",
              "      <th>Ph</th>\n",
              "      <th>rainfall</th>\n",
              "      <th>label</th>\n",
              "    </tr>\n",
              "  </thead>\n",
              "  <tbody>\n",
              "    <tr>\n",
              "      <th>0</th>\n",
              "      <td>temperature</td>\n",
              "      <td>humidity</td>\n",
              "      <td>ph</td>\n",
              "      <td>rainfall</td>\n",
              "      <td>label</td>\n",
              "    </tr>\n",
              "    <tr>\n",
              "      <th>1</th>\n",
              "      <td>20.87974371</td>\n",
              "      <td>82.00274423</td>\n",
              "      <td>6.502985292</td>\n",
              "      <td>202.9355362</td>\n",
              "      <td>1</td>\n",
              "    </tr>\n",
              "    <tr>\n",
              "      <th>2</th>\n",
              "      <td>21.77046169</td>\n",
              "      <td>80.31964408</td>\n",
              "      <td>7.038096361</td>\n",
              "      <td>226.6555374</td>\n",
              "      <td>1</td>\n",
              "    </tr>\n",
              "    <tr>\n",
              "      <th>3</th>\n",
              "      <td>23.00445915</td>\n",
              "      <td>82.3207629</td>\n",
              "      <td>7.840207144</td>\n",
              "      <td>263.9642476</td>\n",
              "      <td>1</td>\n",
              "    </tr>\n",
              "    <tr>\n",
              "      <th>4</th>\n",
              "      <td>26.49109635</td>\n",
              "      <td>80.15836264</td>\n",
              "      <td>6.980400905</td>\n",
              "      <td>242.8640342</td>\n",
              "      <td>1</td>\n",
              "    </tr>\n",
              "  </tbody>\n",
              "</table>\n",
              "</div>"
            ],
            "text/plain": [
              "  AirTemperature  AirHumidity           Ph     rainfall  label\n",
              "0    temperature     humidity           ph     rainfall  label\n",
              "1    20.87974371  82.00274423  6.502985292  202.9355362      1\n",
              "2    21.77046169  80.31964408  7.038096361  226.6555374      1\n",
              "3    23.00445915   82.3207629  7.840207144  263.9642476      1\n",
              "4    26.49109635  80.15836264  6.980400905  242.8640342      1"
            ]
          },
          "metadata": {
            "tags": []
          }
        },
        {
          "output_type": "display_data",
          "data": {
            "text/html": [
              "<div>\n",
              "<style scoped>\n",
              "    .dataframe tbody tr th:only-of-type {\n",
              "        vertical-align: middle;\n",
              "    }\n",
              "\n",
              "    .dataframe tbody tr th {\n",
              "        vertical-align: top;\n",
              "    }\n",
              "\n",
              "    .dataframe thead th {\n",
              "        text-align: right;\n",
              "    }\n",
              "</style>\n",
              "<table border=\"1\" class=\"dataframe\">\n",
              "  <thead>\n",
              "    <tr style=\"text-align: right;\">\n",
              "      <th></th>\n",
              "      <th>AirTemperature</th>\n",
              "      <th>AirHumidity</th>\n",
              "      <th>Ph</th>\n",
              "      <th>rainfall</th>\n",
              "      <th>label</th>\n",
              "    </tr>\n",
              "  </thead>\n",
              "  <tbody>\n",
              "    <tr>\n",
              "      <th>count</th>\n",
              "      <td>3101</td>\n",
              "      <td>3101</td>\n",
              "      <td>3101</td>\n",
              "      <td>3101</td>\n",
              "      <td>3101</td>\n",
              "    </tr>\n",
              "    <tr>\n",
              "      <th>unique</th>\n",
              "      <td>3001</td>\n",
              "      <td>3101</td>\n",
              "      <td>3101</td>\n",
              "      <td>3101</td>\n",
              "      <td>32</td>\n",
              "    </tr>\n",
              "    <tr>\n",
              "      <th>top</th>\n",
              "      <td>31.76167796</td>\n",
              "      <td>62.84916863</td>\n",
              "      <td>6.087919637</td>\n",
              "      <td>148.3003692</td>\n",
              "      <td>18</td>\n",
              "    </tr>\n",
              "    <tr>\n",
              "      <th>freq</th>\n",
              "      <td>2</td>\n",
              "      <td>1</td>\n",
              "      <td>1</td>\n",
              "      <td>1</td>\n",
              "      <td>100</td>\n",
              "    </tr>\n",
              "  </tbody>\n",
              "</table>\n",
              "</div>"
            ],
            "text/plain": [
              "       AirTemperature  AirHumidity           Ph     rainfall label\n",
              "count            3101         3101         3101         3101  3101\n",
              "unique           3001         3101         3101         3101    32\n",
              "top       31.76167796  62.84916863  6.087919637  148.3003692    18\n",
              "freq                2            1            1            1   100"
            ]
          },
          "metadata": {
            "tags": []
          }
        },
        {
          "output_type": "display_data",
          "data": {
            "text/html": [
              "<div>\n",
              "<style scoped>\n",
              "    .dataframe tbody tr th:only-of-type {\n",
              "        vertical-align: middle;\n",
              "    }\n",
              "\n",
              "    .dataframe tbody tr th {\n",
              "        vertical-align: top;\n",
              "    }\n",
              "\n",
              "    .dataframe thead th {\n",
              "        text-align: right;\n",
              "    }\n",
              "</style>\n",
              "<table border=\"1\" class=\"dataframe\">\n",
              "  <thead>\n",
              "    <tr style=\"text-align: right;\">\n",
              "      <th></th>\n",
              "      <th>AirTemperature</th>\n",
              "      <th>AirHumidity</th>\n",
              "      <th>Ph</th>\n",
              "      <th>rainfall</th>\n",
              "      <th>label</th>\n",
              "    </tr>\n",
              "  </thead>\n",
              "  <tbody>\n",
              "    <tr>\n",
              "      <th>1</th>\n",
              "      <td>20.87974371</td>\n",
              "      <td>82.00274423</td>\n",
              "      <td>6.502985292</td>\n",
              "      <td>202.9355362</td>\n",
              "      <td>1</td>\n",
              "    </tr>\n",
              "    <tr>\n",
              "      <th>2</th>\n",
              "      <td>21.77046169</td>\n",
              "      <td>80.31964408</td>\n",
              "      <td>7.038096361</td>\n",
              "      <td>226.6555374</td>\n",
              "      <td>1</td>\n",
              "    </tr>\n",
              "    <tr>\n",
              "      <th>3</th>\n",
              "      <td>23.00445915</td>\n",
              "      <td>82.3207629</td>\n",
              "      <td>7.840207144</td>\n",
              "      <td>263.9642476</td>\n",
              "      <td>1</td>\n",
              "    </tr>\n",
              "    <tr>\n",
              "      <th>4</th>\n",
              "      <td>26.49109635</td>\n",
              "      <td>80.15836264</td>\n",
              "      <td>6.980400905</td>\n",
              "      <td>242.8640342</td>\n",
              "      <td>1</td>\n",
              "    </tr>\n",
              "    <tr>\n",
              "      <th>5</th>\n",
              "      <td>20.13017482</td>\n",
              "      <td>81.60487287</td>\n",
              "      <td>7.628472891</td>\n",
              "      <td>262.7173405</td>\n",
              "      <td>1</td>\n",
              "    </tr>\n",
              "    <tr>\n",
              "      <th>6</th>\n",
              "      <td>23.05804872</td>\n",
              "      <td>83.37011772</td>\n",
              "      <td>7.073453503</td>\n",
              "      <td>251.0549998</td>\n",
              "      <td>1</td>\n",
              "    </tr>\n",
              "    <tr>\n",
              "      <th>7</th>\n",
              "      <td>22.70883798</td>\n",
              "      <td>82.63941394</td>\n",
              "      <td>5.70080568</td>\n",
              "      <td>271.3248604</td>\n",
              "      <td>1</td>\n",
              "    </tr>\n",
              "    <tr>\n",
              "      <th>8</th>\n",
              "      <td>20.27774362</td>\n",
              "      <td>82.89408619</td>\n",
              "      <td>5.718627178</td>\n",
              "      <td>241.9741949</td>\n",
              "      <td>1</td>\n",
              "    </tr>\n",
              "    <tr>\n",
              "      <th>9</th>\n",
              "      <td>24.51588066</td>\n",
              "      <td>83.5352163</td>\n",
              "      <td>6.685346424</td>\n",
              "      <td>230.4462359</td>\n",
              "      <td>1</td>\n",
              "    </tr>\n",
              "    <tr>\n",
              "      <th>10</th>\n",
              "      <td>23.22397386</td>\n",
              "      <td>83.03322691</td>\n",
              "      <td>6.336253525</td>\n",
              "      <td>221.2091958</td>\n",
              "      <td>1</td>\n",
              "    </tr>\n",
              "    <tr>\n",
              "      <th>11</th>\n",
              "      <td>26.52723513</td>\n",
              "      <td>81.41753846</td>\n",
              "      <td>5.386167788</td>\n",
              "      <td>264.6148697</td>\n",
              "      <td>1</td>\n",
              "    </tr>\n",
              "    <tr>\n",
              "      <th>12</th>\n",
              "      <td>23.97898217</td>\n",
              "      <td>81.45061596</td>\n",
              "      <td>7.50283396</td>\n",
              "      <td>250.0832336</td>\n",
              "      <td>1</td>\n",
              "    </tr>\n",
              "    <tr>\n",
              "      <th>13</th>\n",
              "      <td>26.80079604</td>\n",
              "      <td>80.88684822</td>\n",
              "      <td>5.108681786</td>\n",
              "      <td>284.4364567</td>\n",
              "      <td>1</td>\n",
              "    </tr>\n",
              "    <tr>\n",
              "      <th>14</th>\n",
              "      <td>24.01497622</td>\n",
              "      <td>82.05687182</td>\n",
              "      <td>6.98435366</td>\n",
              "      <td>185.2773389</td>\n",
              "      <td>1</td>\n",
              "    </tr>\n",
              "    <tr>\n",
              "      <th>15</th>\n",
              "      <td>25.66585205</td>\n",
              "      <td>80.66385045</td>\n",
              "      <td>6.94801983</td>\n",
              "      <td>209.5869708</td>\n",
              "      <td>1</td>\n",
              "    </tr>\n",
              "    <tr>\n",
              "      <th>16</th>\n",
              "      <td>24.28209415</td>\n",
              "      <td>80.30025587</td>\n",
              "      <td>7.042299069</td>\n",
              "      <td>231.0863347</td>\n",
              "      <td>1</td>\n",
              "    </tr>\n",
              "    <tr>\n",
              "      <th>17</th>\n",
              "      <td>21.58711777</td>\n",
              "      <td>82.7883708</td>\n",
              "      <td>6.249050656</td>\n",
              "      <td>276.6552459</td>\n",
              "      <td>1</td>\n",
              "    </tr>\n",
              "    <tr>\n",
              "      <th>18</th>\n",
              "      <td>23.79391957</td>\n",
              "      <td>80.41817957</td>\n",
              "      <td>6.970859754</td>\n",
              "      <td>206.2611855</td>\n",
              "      <td>1</td>\n",
              "    </tr>\n",
              "    <tr>\n",
              "      <th>19</th>\n",
              "      <td>21.8652524</td>\n",
              "      <td>80.1923008</td>\n",
              "      <td>5.953933276</td>\n",
              "      <td>224.5550169</td>\n",
              "      <td>1</td>\n",
              "    </tr>\n",
              "    <tr>\n",
              "      <th>20</th>\n",
              "      <td>23.57943626</td>\n",
              "      <td>83.58760316</td>\n",
              "      <td>5.85393208</td>\n",
              "      <td>291.2986618</td>\n",
              "      <td>1</td>\n",
              "    </tr>\n",
              "    <tr>\n",
              "      <th>21</th>\n",
              "      <td>21.32504158</td>\n",
              "      <td>80.47476396</td>\n",
              "      <td>6.442475375</td>\n",
              "      <td>185.4974732</td>\n",
              "      <td>1</td>\n",
              "    </tr>\n",
              "    <tr>\n",
              "      <th>22</th>\n",
              "      <td>25.15745531</td>\n",
              "      <td>83.11713476</td>\n",
              "      <td>5.070175667</td>\n",
              "      <td>231.3843163</td>\n",
              "      <td>1</td>\n",
              "    </tr>\n",
              "    <tr>\n",
              "      <th>23</th>\n",
              "      <td>21.94766735</td>\n",
              "      <td>80.97384195</td>\n",
              "      <td>6.012632591</td>\n",
              "      <td>213.3560921</td>\n",
              "      <td>1</td>\n",
              "    </tr>\n",
              "    <tr>\n",
              "      <th>24</th>\n",
              "      <td>21.0525355</td>\n",
              "      <td>82.67839517</td>\n",
              "      <td>6.254028451</td>\n",
              "      <td>233.1075816</td>\n",
              "      <td>1</td>\n",
              "    </tr>\n",
              "    <tr>\n",
              "      <th>25</th>\n",
              "      <td>23.48381344</td>\n",
              "      <td>81.33265073</td>\n",
              "      <td>7.375482851</td>\n",
              "      <td>224.0581164</td>\n",
              "      <td>1</td>\n",
              "    </tr>\n",
              "    <tr>\n",
              "      <th>26</th>\n",
              "      <td>25.0756354</td>\n",
              "      <td>80.52389148</td>\n",
              "      <td>7.778915154</td>\n",
              "      <td>257.0038865</td>\n",
              "      <td>1</td>\n",
              "    </tr>\n",
              "    <tr>\n",
              "      <th>27</th>\n",
              "      <td>26.35927159</td>\n",
              "      <td>84.04403589</td>\n",
              "      <td>6.286500176</td>\n",
              "      <td>271.3586137</td>\n",
              "      <td>1</td>\n",
              "    </tr>\n",
              "    <tr>\n",
              "      <th>28</th>\n",
              "      <td>24.52922681</td>\n",
              "      <td>80.54498576</td>\n",
              "      <td>7.070959995</td>\n",
              "      <td>260.2634026</td>\n",
              "      <td>1</td>\n",
              "    </tr>\n",
              "    <tr>\n",
              "      <th>29</th>\n",
              "      <td>20.77576147</td>\n",
              "      <td>84.49774397</td>\n",
              "      <td>6.244841491</td>\n",
              "      <td>240.0810647</td>\n",
              "      <td>1</td>\n",
              "    </tr>\n",
              "    <tr>\n",
              "      <th>30</th>\n",
              "      <td>22.30157427</td>\n",
              "      <td>80.64416466</td>\n",
              "      <td>6.043304899</td>\n",
              "      <td>197.9791215</td>\n",
              "      <td>1</td>\n",
              "    </tr>\n",
              "    <tr>\n",
              "      <th>...</th>\n",
              "      <td>...</td>\n",
              "      <td>...</td>\n",
              "      <td>...</td>\n",
              "      <td>...</td>\n",
              "      <td>...</td>\n",
              "    </tr>\n",
              "    <tr>\n",
              "      <th>3071</th>\n",
              "      <td>26.26028739</td>\n",
              "      <td>86.14585891</td>\n",
              "      <td>6.7698938</td>\n",
              "      <td>58.97878791</td>\n",
              "      <td>31</td>\n",
              "    </tr>\n",
              "    <tr>\n",
              "      <th>3072</th>\n",
              "      <td>24.90123934</td>\n",
              "      <td>87.20772913</td>\n",
              "      <td>6.744966312</td>\n",
              "      <td>46.59207341</td>\n",
              "      <td>31</td>\n",
              "    </tr>\n",
              "    <tr>\n",
              "      <th>3073</th>\n",
              "      <td>24.84740848</td>\n",
              "      <td>89.20454622</td>\n",
              "      <td>6.391858432</td>\n",
              "      <td>59.67927244</td>\n",
              "      <td>31</td>\n",
              "    </tr>\n",
              "    <tr>\n",
              "      <th>3074</th>\n",
              "      <td>26.98212846</td>\n",
              "      <td>86.70068316</td>\n",
              "      <td>6.770434148</td>\n",
              "      <td>42.91292205</td>\n",
              "      <td>31</td>\n",
              "    </tr>\n",
              "    <tr>\n",
              "      <th>3075</th>\n",
              "      <td>26.90435747</td>\n",
              "      <td>86.25426228</td>\n",
              "      <td>6.727468157</td>\n",
              "      <td>59.75980023</td>\n",
              "      <td>31</td>\n",
              "    </tr>\n",
              "    <tr>\n",
              "      <th>3076</th>\n",
              "      <td>25.86475496</td>\n",
              "      <td>86.67468041</td>\n",
              "      <td>6.662244646</td>\n",
              "      <td>41.16554802</td>\n",
              "      <td>31</td>\n",
              "    </tr>\n",
              "    <tr>\n",
              "      <th>3077</th>\n",
              "      <td>26.70607759</td>\n",
              "      <td>81.14149505</td>\n",
              "      <td>6.944640222</td>\n",
              "      <td>51.51033554</td>\n",
              "      <td>31</td>\n",
              "    </tr>\n",
              "    <tr>\n",
              "      <th>3078</th>\n",
              "      <td>26.44019475</td>\n",
              "      <td>80.91934337</td>\n",
              "      <td>6.507110986</td>\n",
              "      <td>47.81847573</td>\n",
              "      <td>31</td>\n",
              "    </tr>\n",
              "    <tr>\n",
              "      <th>3079</th>\n",
              "      <td>26.283443</td>\n",
              "      <td>84.42478917</td>\n",
              "      <td>6.520663422</td>\n",
              "      <td>50.78669728</td>\n",
              "      <td>31</td>\n",
              "    </tr>\n",
              "    <tr>\n",
              "      <th>3080</th>\n",
              "      <td>26.84366082</td>\n",
              "      <td>83.85039964</td>\n",
              "      <td>6.106500787</td>\n",
              "      <td>40.228644</td>\n",
              "      <td>31</td>\n",
              "    </tr>\n",
              "    <tr>\n",
              "      <th>3081</th>\n",
              "      <td>26.03967219</td>\n",
              "      <td>83.9862443</td>\n",
              "      <td>6.277484043</td>\n",
              "      <td>43.87712348</td>\n",
              "      <td>31</td>\n",
              "    </tr>\n",
              "    <tr>\n",
              "      <th>3082</th>\n",
              "      <td>24.92994759</td>\n",
              "      <td>85.00802358</td>\n",
              "      <td>6.195142279</td>\n",
              "      <td>48.75859458</td>\n",
              "      <td>31</td>\n",
              "    </tr>\n",
              "    <tr>\n",
              "      <th>3083</th>\n",
              "      <td>25.50736962</td>\n",
              "      <td>84.24340241</td>\n",
              "      <td>6.792035575</td>\n",
              "      <td>44.2068997</td>\n",
              "      <td>31</td>\n",
              "    </tr>\n",
              "    <tr>\n",
              "      <th>3084</th>\n",
              "      <td>25.4438391</td>\n",
              "      <td>87.9392312</td>\n",
              "      <td>6.472756256</td>\n",
              "      <td>57.51549686</td>\n",
              "      <td>31</td>\n",
              "    </tr>\n",
              "    <tr>\n",
              "      <th>3085</th>\n",
              "      <td>26.12588914</td>\n",
              "      <td>86.5507939</td>\n",
              "      <td>6.000975617</td>\n",
              "      <td>40.71210074</td>\n",
              "      <td>31</td>\n",
              "    </tr>\n",
              "    <tr>\n",
              "      <th>3086</th>\n",
              "      <td>25.10474753</td>\n",
              "      <td>87.5267616</td>\n",
              "      <td>6.587791262</td>\n",
              "      <td>59.26519444</td>\n",
              "      <td>31</td>\n",
              "    </tr>\n",
              "    <tr>\n",
              "      <th>3087</th>\n",
              "      <td>26.27520631</td>\n",
              "      <td>86.63249555</td>\n",
              "      <td>6.956508826</td>\n",
              "      <td>54.38748495</td>\n",
              "      <td>31</td>\n",
              "    </tr>\n",
              "    <tr>\n",
              "      <th>3088</th>\n",
              "      <td>26.27061608</td>\n",
              "      <td>83.09194521</td>\n",
              "      <td>6.259086583</td>\n",
              "      <td>46.76837499</td>\n",
              "      <td>31</td>\n",
              "    </tr>\n",
              "    <tr>\n",
              "      <th>3089</th>\n",
              "      <td>26.73690828</td>\n",
              "      <td>87.82430156</td>\n",
              "      <td>6.747537642</td>\n",
              "      <td>47.46447019</td>\n",
              "      <td>31</td>\n",
              "    </tr>\n",
              "    <tr>\n",
              "      <th>3090</th>\n",
              "      <td>25.04746944</td>\n",
              "      <td>85.5667282</td>\n",
              "      <td>6.932537231</td>\n",
              "      <td>56.72496677</td>\n",
              "      <td>31</td>\n",
              "    </tr>\n",
              "    <tr>\n",
              "      <th>3091</th>\n",
              "      <td>24.69368934</td>\n",
              "      <td>85.56967628</td>\n",
              "      <td>6.353107393</td>\n",
              "      <td>48.99390828</td>\n",
              "      <td>31</td>\n",
              "    </tr>\n",
              "    <tr>\n",
              "      <th>3092</th>\n",
              "      <td>24.54356968</td>\n",
              "      <td>84.60808277</td>\n",
              "      <td>6.211748957</td>\n",
              "      <td>42.00660251</td>\n",
              "      <td>31</td>\n",
              "    </tr>\n",
              "    <tr>\n",
              "      <th>3093</th>\n",
              "      <td>25.89762315</td>\n",
              "      <td>81.96664832</td>\n",
              "      <td>6.277245254</td>\n",
              "      <td>54.49960057</td>\n",
              "      <td>31</td>\n",
              "    </tr>\n",
              "    <tr>\n",
              "      <th>3094</th>\n",
              "      <td>26.6333118</td>\n",
              "      <td>84.31756844</td>\n",
              "      <td>6.560443519</td>\n",
              "      <td>56.31866159</td>\n",
              "      <td>31</td>\n",
              "    </tr>\n",
              "    <tr>\n",
              "      <th>3095</th>\n",
              "      <td>25.35794749</td>\n",
              "      <td>80.45846265</td>\n",
              "      <td>6.903020221</td>\n",
              "      <td>47.72078245</td>\n",
              "      <td>31</td>\n",
              "    </tr>\n",
              "    <tr>\n",
              "      <th>3096</th>\n",
              "      <td>25.28784623</td>\n",
              "      <td>89.63667876</td>\n",
              "      <td>6.765094964</td>\n",
              "      <td>58.28697664</td>\n",
              "      <td>31</td>\n",
              "    </tr>\n",
              "    <tr>\n",
              "      <th>3097</th>\n",
              "      <td>26.63838589</td>\n",
              "      <td>84.69546874</td>\n",
              "      <td>6.189213927</td>\n",
              "      <td>48.32428609</td>\n",
              "      <td>31</td>\n",
              "    </tr>\n",
              "    <tr>\n",
              "      <th>3098</th>\n",
              "      <td>25.3310446</td>\n",
              "      <td>84.30533791</td>\n",
              "      <td>6.904241707</td>\n",
              "      <td>41.53218699</td>\n",
              "      <td>31</td>\n",
              "    </tr>\n",
              "    <tr>\n",
              "      <th>3099</th>\n",
              "      <td>26.89750174</td>\n",
              "      <td>83.89241484</td>\n",
              "      <td>6.463271076</td>\n",
              "      <td>43.97193745</td>\n",
              "      <td>31</td>\n",
              "    </tr>\n",
              "    <tr>\n",
              "      <th>3100</th>\n",
              "      <td>26.98603693</td>\n",
              "      <td>89.4138489</td>\n",
              "      <td>6.260838965</td>\n",
              "      <td>58.54876687</td>\n",
              "      <td>31</td>\n",
              "    </tr>\n",
              "  </tbody>\n",
              "</table>\n",
              "<p>3100 rows × 5 columns</p>\n",
              "</div>"
            ],
            "text/plain": [
              "     AirTemperature  AirHumidity           Ph     rainfall label\n",
              "1       20.87974371  82.00274423  6.502985292  202.9355362     1\n",
              "2       21.77046169  80.31964408  7.038096361  226.6555374     1\n",
              "3       23.00445915   82.3207629  7.840207144  263.9642476     1\n",
              "4       26.49109635  80.15836264  6.980400905  242.8640342     1\n",
              "5       20.13017482  81.60487287  7.628472891  262.7173405     1\n",
              "6       23.05804872  83.37011772  7.073453503  251.0549998     1\n",
              "7       22.70883798  82.63941394   5.70080568  271.3248604     1\n",
              "8       20.27774362  82.89408619  5.718627178  241.9741949     1\n",
              "9       24.51588066   83.5352163  6.685346424  230.4462359     1\n",
              "10      23.22397386  83.03322691  6.336253525  221.2091958     1\n",
              "11      26.52723513  81.41753846  5.386167788  264.6148697     1\n",
              "12      23.97898217  81.45061596   7.50283396  250.0832336     1\n",
              "13      26.80079604  80.88684822  5.108681786  284.4364567     1\n",
              "14      24.01497622  82.05687182   6.98435366  185.2773389     1\n",
              "15      25.66585205  80.66385045   6.94801983  209.5869708     1\n",
              "16      24.28209415  80.30025587  7.042299069  231.0863347     1\n",
              "17      21.58711777   82.7883708  6.249050656  276.6552459     1\n",
              "18      23.79391957  80.41817957  6.970859754  206.2611855     1\n",
              "19       21.8652524   80.1923008  5.953933276  224.5550169     1\n",
              "20      23.57943626  83.58760316   5.85393208  291.2986618     1\n",
              "21      21.32504158  80.47476396  6.442475375  185.4974732     1\n",
              "22      25.15745531  83.11713476  5.070175667  231.3843163     1\n",
              "23      21.94766735  80.97384195  6.012632591  213.3560921     1\n",
              "24       21.0525355  82.67839517  6.254028451  233.1075816     1\n",
              "25      23.48381344  81.33265073  7.375482851  224.0581164     1\n",
              "26       25.0756354  80.52389148  7.778915154  257.0038865     1\n",
              "27      26.35927159  84.04403589  6.286500176  271.3586137     1\n",
              "28      24.52922681  80.54498576  7.070959995  260.2634026     1\n",
              "29      20.77576147  84.49774397  6.244841491  240.0810647     1\n",
              "30      22.30157427  80.64416466  6.043304899  197.9791215     1\n",
              "...             ...          ...          ...          ...   ...\n",
              "3071    26.26028739  86.14585891    6.7698938  58.97878791    31\n",
              "3072    24.90123934  87.20772913  6.744966312  46.59207341    31\n",
              "3073    24.84740848  89.20454622  6.391858432  59.67927244    31\n",
              "3074    26.98212846  86.70068316  6.770434148  42.91292205    31\n",
              "3075    26.90435747  86.25426228  6.727468157  59.75980023    31\n",
              "3076    25.86475496  86.67468041  6.662244646  41.16554802    31\n",
              "3077    26.70607759  81.14149505  6.944640222  51.51033554    31\n",
              "3078    26.44019475  80.91934337  6.507110986  47.81847573    31\n",
              "3079      26.283443  84.42478917  6.520663422  50.78669728    31\n",
              "3080    26.84366082  83.85039964  6.106500787    40.228644    31\n",
              "3081    26.03967219   83.9862443  6.277484043  43.87712348    31\n",
              "3082    24.92994759  85.00802358  6.195142279  48.75859458    31\n",
              "3083    25.50736962  84.24340241  6.792035575   44.2068997    31\n",
              "3084     25.4438391   87.9392312  6.472756256  57.51549686    31\n",
              "3085    26.12588914   86.5507939  6.000975617  40.71210074    31\n",
              "3086    25.10474753   87.5267616  6.587791262  59.26519444    31\n",
              "3087    26.27520631  86.63249555  6.956508826  54.38748495    31\n",
              "3088    26.27061608  83.09194521  6.259086583  46.76837499    31\n",
              "3089    26.73690828  87.82430156  6.747537642  47.46447019    31\n",
              "3090    25.04746944   85.5667282  6.932537231  56.72496677    31\n",
              "3091    24.69368934  85.56967628  6.353107393  48.99390828    31\n",
              "3092    24.54356968  84.60808277  6.211748957  42.00660251    31\n",
              "3093    25.89762315  81.96664832  6.277245254  54.49960057    31\n",
              "3094     26.6333118  84.31756844  6.560443519  56.31866159    31\n",
              "3095    25.35794749  80.45846265  6.903020221  47.72078245    31\n",
              "3096    25.28784623  89.63667876  6.765094964  58.28697664    31\n",
              "3097    26.63838589  84.69546874  6.189213927  48.32428609    31\n",
              "3098     25.3310446  84.30533791  6.904241707  41.53218699    31\n",
              "3099    26.89750174  83.89241484  6.463271076  43.97193745    31\n",
              "3100    26.98603693   89.4138489  6.260838965  58.54876687    31\n",
              "\n",
              "[3100 rows x 5 columns]"
            ]
          },
          "metadata": {
            "tags": []
          }
        }
      ]
    },
    {
      "cell_type": "markdown",
      "metadata": {
        "id": "Re_X-Jkk-xvP",
        "colab_type": "text"
      },
      "source": [
        "## Create Features and Labels\n",
        "#### Split the data into 80% training, 10% validation and 10% testing."
      ]
    },
    {
      "cell_type": "code",
      "metadata": {
        "id": "2klUgN10-xvR",
        "colab_type": "code",
        "colab": {}
      },
      "source": [
        "\n",
        "rand_split = np.random.rand(len(data))\n",
        "train_list = rand_split < 0.8\n",
        "val_list = (rand_split >= 0.8) & (rand_split < 0.9)\n",
        "test_list = rand_split >= 0.9\n",
        "\n",
        "data_train = data[train_list]\n",
        "data_val = data[val_list]\n",
        "data_test = data[test_list]\n",
        "\n",
        "#train=df.iloc[:,0:3]\n",
        "#test=df.iloc[:,4:]\n",
        "\n",
        "\n",
        "train_y = np.array(data_train.loc[:,'label'])  \n",
        "train_X = np.array(data_train.loc[:,'AirTemperature':'rainfall'])\n",
        "\n",
        "val_y = np.array(data_val.loc[:,'label'])\n",
        "val_X = np.array(data_val.loc[:,'AirTemperature':'rainfall'])\n",
        "\n",
        "test_y = np.array(data_test.loc[:,'label'])\n",
        "test_X = np.array(data_test.loc[:,'AirTemperature':'rainfall'])\n"
      ],
      "execution_count": null,
      "outputs": []
    },
    {
      "cell_type": "markdown",
      "metadata": {
        "nbpresent": {
          "id": "ff9d10f9-b611-423b-80da-6dcdafd1c8b9"
        },
        "id": "4nvj5S9O-xvX",
        "colab_type": "text"
      },
      "source": [
        "Now, we'll convert the datasets to the recordIO-wrapped protobuf format used by the Amazon SageMaker algorithms, and then upload this data to S3.  We'll start with training data."
      ]
    },
    {
      "cell_type": "code",
      "metadata": {
        "nbpresent": {
          "id": "cd8e3431-79d9-40b6-91d1-d67cd61894e7"
        },
        "id": "JIbzW3K3-xvX",
        "colab_type": "code",
        "colab": {}
      },
      "source": [
        "train_file = 'linear_train.data'\n",
        "\n",
        "f = io.BytesIO()\n",
        "smac.write_numpy_to_dense_tensor(f, train_X.astype('float32'), train_y.astype('float32'))\n",
        "f.seek(0)\n",
        "\n",
        "boto3.Session().resource('s3').Bucket(bucket).Object(os.path.join(prefix, 'train', train_file)).upload_fileobj(f)"
      ],
      "execution_count": null,
      "outputs": []
    },
    {
      "cell_type": "markdown",
      "metadata": {
        "nbpresent": {
          "id": "71cbcebd-a2a5-419e-8e50-b2bc0909f564"
        },
        "id": "H__aLEEX-xvd",
        "colab_type": "text"
      },
      "source": [
        "Next we'll convert and upload the validation dataset."
      ]
    },
    {
      "cell_type": "code",
      "metadata": {
        "nbpresent": {
          "id": "bd113b8e-adc1-4091-a26f-a426149fe604"
        },
        "id": "bf6OuTXr-xve",
        "colab_type": "code",
        "colab": {}
      },
      "source": [
        "validation_file = 'linear_validation.data'\n",
        "\n",
        "f = io.BytesIO()\n",
        "smac.write_numpy_to_dense_tensor(f, val_X.astype('float32'), val_y.astype('float32'))\n",
        "f.seek(0)\n",
        "\n",
        "boto3.Session().resource('s3').Bucket(bucket).Object(os.path.join(prefix, 'validation', validation_file)).upload_fileobj(f)"
      ],
      "execution_count": null,
      "outputs": []
    },
    {
      "cell_type": "markdown",
      "metadata": {
        "nbpresent": {
          "id": "f3b125ad-a2d5-464c-8cfa-bd203034eee4"
        },
        "id": "Ib5TmxH9-xvo",
        "colab_type": "text"
      },
      "source": [
        "---\n",
        "## Train\n",
        "\n",
        "Now we can begin to specify our linear model.  Amazon SageMaker's Linear Learner actually fits many models in parallel, each with slightly different hyperparameters, and then returns the one with the best fit.  This functionality is automatically enabled.  We can influence this using parameters like:\n",
        "\n",
        "- `num_models` to increase to total number of models run.  The specified parameters will always be one of those models, but the algorithm also chooses models with nearby parameter values in order to find a solution nearby that may be more optimal.  In this case, we're going to use the max of 32.\n",
        "- `loss` which controls how we penalize mistakes in our model estimates.  For this case, let's use absolute loss as we haven't spent much time cleaning the data, and absolute loss will be less sensitive to outliers.\n",
        "- `wd` or `l1` which control regularization.  Regularization can prevent model overfitting by preventing our estimates from becoming too finely tuned to the training data, which can actually hurt generalizability.  In this case, we'll leave these parameters as their default \"auto\" though."
      ]
    },
    {
      "cell_type": "markdown",
      "metadata": {
        "id": "0dX1f57K-xvp",
        "colab_type": "text"
      },
      "source": [
        "### Specify container images used for training and hosting SageMaker's linear-learner"
      ]
    },
    {
      "cell_type": "code",
      "metadata": {
        "id": "WP-6AuoX-xvr",
        "colab_type": "code",
        "colab": {}
      },
      "source": [
        "# See 'Algorithms Provided by Amazon SageMaker: Common Parameters' in the SageMaker documentation for an explanation of these values.\n",
        "from sagemaker.amazon.amazon_estimator import get_image_uri\n",
        "container = get_image_uri(boto3.Session().region_name, 'linear-learner')"
      ],
      "execution_count": null,
      "outputs": []
    },
    {
      "cell_type": "code",
      "metadata": {
        "nbpresent": {
          "id": "397fb60a-c48b-453f-88ea-4d832b70c919"
        },
        "id": "wvPmVb83-xvz",
        "colab_type": "code",
        "colab": {},
        "outputId": "dbfd1d54-1689-4e19-ec7b-46c5d6bb1e88"
      },
      "source": [
        "linear_job = 'Crops-linear-' + time.strftime(\"%Y-%m-%d-%H-%M-%S\", time.gmtime())\n",
        "\n",
        "\n",
        "\n",
        "print(\"Job name is:\", linear_job)\n",
        "\n",
        "linear_training_params = {\n",
        "    \"RoleArn\": role,\n",
        "    \"TrainingJobName\": linear_job,\n",
        "    \"AlgorithmSpecification\": {\n",
        "        \"TrainingImage\": container,\n",
        "        \"TrainingInputMode\": \"File\"\n",
        "    },\n",
        "    \"ResourceConfig\": {\n",
        "        \"InstanceCount\": 1,\n",
        "        \"InstanceType\": \"ml.m5.large\",\n",
        "        \"VolumeSizeInGB\": 5\n",
        "    },\n",
        "    \"InputDataConfig\": [\n",
        "        {\n",
        "            \"ChannelName\": \"train\",\n",
        "            \"DataSource\": {\n",
        "                \"S3DataSource\": {\n",
        "                    \"S3DataType\": \"S3Prefix\",\n",
        "                    \"S3Uri\": \"s3://{}/{}/train/\".format(bucket, prefix),\n",
        "                    \"S3DataDistributionType\": \"ShardedByS3Key\"\n",
        "                }\n",
        "            },\n",
        "            \"CompressionType\": \"None\",\n",
        "            \"RecordWrapperType\": \"None\"\n",
        "        },\n",
        "        {\n",
        "            \"ChannelName\": \"validation\",\n",
        "            \"DataSource\": {\n",
        "                \"S3DataSource\": {\n",
        "                    \"S3DataType\": \"S3Prefix\",\n",
        "                    \"S3Uri\": \"s3://{}/{}/validation/\".format(bucket, prefix),\n",
        "                    \"S3DataDistributionType\": \"FullyReplicated\"\n",
        "                }\n",
        "            },\n",
        "            \"CompressionType\": \"None\",\n",
        "            \"RecordWrapperType\": \"None\"\n",
        "        }\n",
        "\n",
        "    ],\n",
        "    \"OutputDataConfig\": {\n",
        "        \"S3OutputPath\": \"s3://{}/{}/\".format(bucket, prefix)\n",
        "    },\n",
        "    \"HyperParameters\": {\n",
        "        \"feature_dim\": \"31\",\n",
        "        \"mini_batch_size\": \"50\",\n",
        "        \"predictor_type\": \"regressor\",\n",
        "        \"epochs\": \"10\",\n",
        "        \"num_models\": \"32\",\n",
        "        \"loss\": \"absolute_loss\"\n",
        "    },\n",
        "    \"StoppingCondition\": {\n",
        "        \"MaxRuntimeInSeconds\": 60 * 160\n",
        "    }\n",
        "}"
      ],
      "execution_count": null,
      "outputs": [
        {
          "output_type": "stream",
          "text": [
            "Job name is: Crops-linear-2020-05-04-08-07-35\n"
          ],
          "name": "stdout"
        }
      ]
    },
    {
      "cell_type": "markdown",
      "metadata": {
        "id": "WVe9xUak-xv3",
        "colab_type": "text"
      },
      "source": [
        "Now let's kick off our training job in SageMaker's distributed, managed training, using the parameters we just created.  Because training is managed, we don't have to wait for our job to finish to continue, but for this case, let's use boto3's 'training_job_completed_or_stopped' waiter so we can ensure that the job has been started."
      ]
    },
    {
      "cell_type": "code",
      "metadata": {
        "id": "FRB0kwtl-xv4",
        "colab_type": "code",
        "colab": {},
        "outputId": "968ad4da-0511-4197-b42f-500c9420b546"
      },
      "source": [
        "%%time\n",
        "\n",
        "region = boto3.Session().region_name\n",
        "sm = boto3.client('sagemaker')\n",
        "\n",
        "sm.create_training_job(**linear_training_params)\n",
        "\n",
        "status = sm.describe_training_job(TrainingJobName=linear_job)['TrainingJobStatus']\n",
        "print(status)\n",
        "sm.get_waiter('training_job_completed_or_stopped').wait(TrainingJobName=linear_job)\n",
        "if status == 'Failed':\n",
        "    message = sm.describe_training_job(TrainingJobName=linear_job)['FailureReason']\n",
        "    print('Training failed with the following error: {}'.format(message))\n",
        "    raise Exception('Training job failed')"
      ],
      "execution_count": null,
      "outputs": [
        {
          "output_type": "stream",
          "text": [
            "InProgress\n"
          ],
          "name": "stdout"
        },
        {
          "output_type": "error",
          "ename": "WaiterError",
          "evalue": "Waiter TrainingJobCompletedOrStopped failed: Waiter encountered a terminal failure state",
          "traceback": [
            "\u001b[0;31m---------------------------------------------------------------------------\u001b[0m",
            "\u001b[0;31mWaiterError\u001b[0m                               Traceback (most recent call last)",
            "\u001b[0;32m<timed exec>\u001b[0m in \u001b[0;36m<module>\u001b[0;34m()\u001b[0m\n",
            "\u001b[0;32m~/anaconda3/envs/python3/lib/python3.6/site-packages/botocore/waiter.py\u001b[0m in \u001b[0;36mwait\u001b[0;34m(self, **kwargs)\u001b[0m\n\u001b[1;32m     51\u001b[0m     \u001b[0;31m# method.\u001b[0m\u001b[0;34m\u001b[0m\u001b[0;34m\u001b[0m\u001b[0m\n\u001b[1;32m     52\u001b[0m     \u001b[0;32mdef\u001b[0m \u001b[0mwait\u001b[0m\u001b[0;34m(\u001b[0m\u001b[0mself\u001b[0m\u001b[0;34m,\u001b[0m \u001b[0;34m**\u001b[0m\u001b[0mkwargs\u001b[0m\u001b[0;34m)\u001b[0m\u001b[0;34m:\u001b[0m\u001b[0;34m\u001b[0m\u001b[0m\n\u001b[0;32m---> 53\u001b[0;31m         \u001b[0mWaiter\u001b[0m\u001b[0;34m.\u001b[0m\u001b[0mwait\u001b[0m\u001b[0;34m(\u001b[0m\u001b[0mself\u001b[0m\u001b[0;34m,\u001b[0m \u001b[0;34m**\u001b[0m\u001b[0mkwargs\u001b[0m\u001b[0;34m)\u001b[0m\u001b[0;34m\u001b[0m\u001b[0m\n\u001b[0m\u001b[1;32m     54\u001b[0m \u001b[0;34m\u001b[0m\u001b[0m\n\u001b[1;32m     55\u001b[0m     wait.__doc__ = WaiterDocstring(\n",
            "\u001b[0;32m~/anaconda3/envs/python3/lib/python3.6/site-packages/botocore/waiter.py\u001b[0m in \u001b[0;36mwait\u001b[0;34m(self, **kwargs)\u001b[0m\n\u001b[1;32m    321\u001b[0m                     \u001b[0mname\u001b[0m\u001b[0;34m=\u001b[0m\u001b[0mself\u001b[0m\u001b[0;34m.\u001b[0m\u001b[0mname\u001b[0m\u001b[0;34m,\u001b[0m\u001b[0;34m\u001b[0m\u001b[0m\n\u001b[1;32m    322\u001b[0m                     \u001b[0mreason\u001b[0m\u001b[0;34m=\u001b[0m\u001b[0;34m'Waiter encountered a terminal failure state'\u001b[0m\u001b[0;34m,\u001b[0m\u001b[0;34m\u001b[0m\u001b[0m\n\u001b[0;32m--> 323\u001b[0;31m                     \u001b[0mlast_response\u001b[0m\u001b[0;34m=\u001b[0m\u001b[0mresponse\u001b[0m\u001b[0;34m,\u001b[0m\u001b[0;34m\u001b[0m\u001b[0m\n\u001b[0m\u001b[1;32m    324\u001b[0m                 )\n\u001b[1;32m    325\u001b[0m             \u001b[0;32mif\u001b[0m \u001b[0mnum_attempts\u001b[0m \u001b[0;34m>=\u001b[0m \u001b[0mmax_attempts\u001b[0m\u001b[0;34m:\u001b[0m\u001b[0;34m\u001b[0m\u001b[0m\n",
            "\u001b[0;31mWaiterError\u001b[0m: Waiter TrainingJobCompletedOrStopped failed: Waiter encountered a terminal failure state"
          ]
        }
      ]
    },
    {
      "cell_type": "markdown",
      "metadata": {
        "nbpresent": {
          "id": "2adcc348-9ab5-4a8a-8139-d0ecd740208a"
        },
        "id": "nPqqfCT8-xv9",
        "colab_type": "text"
      },
      "source": [
        "---\n",
        "## Host\n",
        "\n",
        "Now that we've trained the linear algorithm on our data, let's setup a model which can later be hosted.  We will:\n",
        "1. Point to the scoring container\n",
        "1. Point to the model.tar.gz that came from training\n",
        "1. Create the hosting model"
      ]
    },
    {
      "cell_type": "code",
      "metadata": {
        "nbpresent": {
          "id": "c88fb868-01d2-4991-8953-28814c022bdc"
        },
        "id": "dWCAYCgM-xv9",
        "colab_type": "code",
        "colab": {},
        "outputId": "b803f5a1-bf4d-4995-b56c-cbe90cbb664b"
      },
      "source": [
        "linear_hosting_container = {\n",
        "    'Image': container,\n",
        "    'ModelDataUrl': sm.describe_training_job(TrainingJobName=linear_job)['ModelArtifacts']['S3ModelArtifacts']\n",
        "}\n",
        "\n",
        "create_model_response = sm.create_model(\n",
        "    ModelName=linear_job,\n",
        "    ExecutionRoleArn=role,\n",
        "    PrimaryContainer=linear_hosting_container)\n",
        "\n",
        "print(create_model_response['ModelArn'])\n"
      ],
      "execution_count": null,
      "outputs": [
        {
          "output_type": "error",
          "ename": "ClientError",
          "evalue": "An error occurred (ValidationException) when calling the CreateModel operation: Could not find model data at s3://willbethegame/sagemaker/DEMO-crop-prediction/Crops-linear-2020-05-04-08-07-35/output/model.tar.gz.",
          "traceback": [
            "\u001b[0;31m---------------------------------------------------------------------------\u001b[0m",
            "\u001b[0;31mClientError\u001b[0m                               Traceback (most recent call last)",
            "\u001b[0;32m<ipython-input-21-0f1fff39f00f>\u001b[0m in \u001b[0;36m<module>\u001b[0;34m()\u001b[0m\n\u001b[1;32m      7\u001b[0m     \u001b[0mModelName\u001b[0m\u001b[0;34m=\u001b[0m\u001b[0mlinear_job\u001b[0m\u001b[0;34m,\u001b[0m\u001b[0;34m\u001b[0m\u001b[0m\n\u001b[1;32m      8\u001b[0m     \u001b[0mExecutionRoleArn\u001b[0m\u001b[0;34m=\u001b[0m\u001b[0mrole\u001b[0m\u001b[0;34m,\u001b[0m\u001b[0;34m\u001b[0m\u001b[0m\n\u001b[0;32m----> 9\u001b[0;31m     PrimaryContainer=linear_hosting_container)\n\u001b[0m\u001b[1;32m     10\u001b[0m \u001b[0;34m\u001b[0m\u001b[0m\n\u001b[1;32m     11\u001b[0m \u001b[0mprint\u001b[0m\u001b[0;34m(\u001b[0m\u001b[0mcreate_model_response\u001b[0m\u001b[0;34m[\u001b[0m\u001b[0;34m'ModelArn'\u001b[0m\u001b[0;34m]\u001b[0m\u001b[0;34m)\u001b[0m\u001b[0;34m\u001b[0m\u001b[0m\n",
            "\u001b[0;32m~/anaconda3/envs/python3/lib/python3.6/site-packages/botocore/client.py\u001b[0m in \u001b[0;36m_api_call\u001b[0;34m(self, *args, **kwargs)\u001b[0m\n\u001b[1;32m    314\u001b[0m                     \"%s() only accepts keyword arguments.\" % py_operation_name)\n\u001b[1;32m    315\u001b[0m             \u001b[0;31m# The \"self\" in this scope is referring to the BaseClient.\u001b[0m\u001b[0;34m\u001b[0m\u001b[0;34m\u001b[0m\u001b[0m\n\u001b[0;32m--> 316\u001b[0;31m             \u001b[0;32mreturn\u001b[0m \u001b[0mself\u001b[0m\u001b[0;34m.\u001b[0m\u001b[0m_make_api_call\u001b[0m\u001b[0;34m(\u001b[0m\u001b[0moperation_name\u001b[0m\u001b[0;34m,\u001b[0m \u001b[0mkwargs\u001b[0m\u001b[0;34m)\u001b[0m\u001b[0;34m\u001b[0m\u001b[0m\n\u001b[0m\u001b[1;32m    317\u001b[0m \u001b[0;34m\u001b[0m\u001b[0m\n\u001b[1;32m    318\u001b[0m         \u001b[0m_api_call\u001b[0m\u001b[0;34m.\u001b[0m\u001b[0m__name__\u001b[0m \u001b[0;34m=\u001b[0m \u001b[0mstr\u001b[0m\u001b[0;34m(\u001b[0m\u001b[0mpy_operation_name\u001b[0m\u001b[0;34m)\u001b[0m\u001b[0;34m\u001b[0m\u001b[0m\n",
            "\u001b[0;32m~/anaconda3/envs/python3/lib/python3.6/site-packages/botocore/client.py\u001b[0m in \u001b[0;36m_make_api_call\u001b[0;34m(self, operation_name, api_params)\u001b[0m\n\u001b[1;32m    624\u001b[0m             \u001b[0merror_code\u001b[0m \u001b[0;34m=\u001b[0m \u001b[0mparsed_response\u001b[0m\u001b[0;34m.\u001b[0m\u001b[0mget\u001b[0m\u001b[0;34m(\u001b[0m\u001b[0;34m\"Error\"\u001b[0m\u001b[0;34m,\u001b[0m \u001b[0;34m{\u001b[0m\u001b[0;34m}\u001b[0m\u001b[0;34m)\u001b[0m\u001b[0;34m.\u001b[0m\u001b[0mget\u001b[0m\u001b[0;34m(\u001b[0m\u001b[0;34m\"Code\"\u001b[0m\u001b[0;34m)\u001b[0m\u001b[0;34m\u001b[0m\u001b[0m\n\u001b[1;32m    625\u001b[0m             \u001b[0merror_class\u001b[0m \u001b[0;34m=\u001b[0m \u001b[0mself\u001b[0m\u001b[0;34m.\u001b[0m\u001b[0mexceptions\u001b[0m\u001b[0;34m.\u001b[0m\u001b[0mfrom_code\u001b[0m\u001b[0;34m(\u001b[0m\u001b[0merror_code\u001b[0m\u001b[0;34m)\u001b[0m\u001b[0;34m\u001b[0m\u001b[0m\n\u001b[0;32m--> 626\u001b[0;31m             \u001b[0;32mraise\u001b[0m \u001b[0merror_class\u001b[0m\u001b[0;34m(\u001b[0m\u001b[0mparsed_response\u001b[0m\u001b[0;34m,\u001b[0m \u001b[0moperation_name\u001b[0m\u001b[0;34m)\u001b[0m\u001b[0;34m\u001b[0m\u001b[0m\n\u001b[0m\u001b[1;32m    627\u001b[0m         \u001b[0;32melse\u001b[0m\u001b[0;34m:\u001b[0m\u001b[0;34m\u001b[0m\u001b[0m\n\u001b[1;32m    628\u001b[0m             \u001b[0;32mreturn\u001b[0m \u001b[0mparsed_response\u001b[0m\u001b[0;34m\u001b[0m\u001b[0m\n",
            "\u001b[0;31mClientError\u001b[0m: An error occurred (ValidationException) when calling the CreateModel operation: Could not find model data at s3://willbethegame/sagemaker/DEMO-crop-prediction/Crops-linear-2020-05-04-08-07-35/output/model.tar.gz."
          ]
        }
      ]
    },
    {
      "cell_type": "markdown",
      "metadata": {
        "id": "isuCRUGX-xwE",
        "colab_type": "text"
      },
      "source": [
        "Once we've setup a model, we can configure what our hosting endpoints should be.  Here we specify:\n",
        "1. EC2 instance type to use for hosting\n",
        "1. Initial number of instances\n",
        "1. Our hosting model name"
      ]
    },
    {
      "cell_type": "code",
      "metadata": {
        "id": "Bb4T7YYm-xwF",
        "colab_type": "code",
        "colab": {}
      },
      "source": [
        "linear_endpoint_config = 'DEMO-linear-endpoint-config-' + time.strftime(\"%Y-%m-%d-%H-%M-%S\", time.gmtime())\n",
        "print(linear_endpoint_config)\n",
        "create_endpoint_config_response = sm.create_endpoint_config(\n",
        "    EndpointConfigName=linear_endpoint_config,\n",
        "    ProductionVariants=[{\n",
        "        'InstanceType': 'ml.t2.medium',\n",
        "        'InitialInstanceCount': 1,\n",
        "        'ModelName': linear_job,\n",
        "        'VariantName': 'AllTraffic'}])\n",
        "\n",
        "print(\"Endpoint Config Arn: \" + create_endpoint_config_response['EndpointConfigArn'])"
      ],
      "execution_count": null,
      "outputs": []
    },
    {
      "cell_type": "markdown",
      "metadata": {
        "id": "pTKG6Ij5-xwK",
        "colab_type": "text"
      },
      "source": [
        "Now that we've specified how our endpoint should be configured, we can create them.  This can be done in the background, but for now let's run a loop that updates us on the status of the endpoints so that we know when they are ready for use."
      ]
    },
    {
      "cell_type": "code",
      "metadata": {
        "id": "M25psQDq-xwK",
        "colab_type": "code",
        "colab": {}
      },
      "source": [
        "%%time\n",
        "\n",
        "linear_endpoint = 'DEMO-linear-endpoint-' + time.strftime(\"%Y%m%d%H%M\", time.gmtime())\n",
        "print(linear_endpoint)\n",
        "create_endpoint_response = sm.create_endpoint(\n",
        "    EndpointName=linear_endpoint,\n",
        "    EndpointConfigName=linear_endpoint_config)\n",
        "print(create_endpoint_response['EndpointArn'])\n",
        "\n",
        "resp = sm.describe_endpoint(EndpointName=linear_endpoint)\n",
        "status = resp['EndpointStatus']\n",
        "print(\"Status: \" + status)\n",
        "\n",
        "sm.get_waiter('endpoint_in_service').wait(EndpointName=linear_endpoint)\n",
        "\n",
        "resp = sm.describe_endpoint(EndpointName=linear_endpoint)\n",
        "status = resp['EndpointStatus']\n",
        "print(\"Arn: \" + resp['EndpointArn'])\n",
        "print(\"Status: \" + status)\n",
        "\n",
        "if status != 'InService':\n",
        "    raise Exception('Endpoint creation did not succeed')"
      ],
      "execution_count": null,
      "outputs": []
    },
    {
      "cell_type": "markdown",
      "metadata": {
        "id": "rXJTpx99-xwP",
        "colab_type": "text"
      },
      "source": [
        "## Predict\n",
        "### Predict on Test Data\n",
        "\n",
        "Now that we have our hosted endpoint, we can generate statistical predictions from it.  Let's predict on our test dataset to understand how accurate our model is.\n",
        "\n",
        "There are many metrics to measure classification accuracy.  Common examples include include:\n",
        "- Precision\n",
        "- Recall\n",
        "- F1 measure\n",
        "- Area under the ROC curve - AUC\n",
        "- Total Classification Accuracy \n",
        "- Mean Absolute Error\n",
        "\n",
        "For our example, we'll keep things simple and use total classification accuracy as our metric of choice. We will also evaluate  Mean Absolute  Error (MAE) as the linear-learner has been optimized using this metric, not necessarily because it is a relevant metric from an application point of view. We'll compare the performance of the linear-learner against a naive benchmark prediction which uses majority class observed in the training data set for prediction on the test data.\n",
        "\n",
        "\n"
      ]
    },
    {
      "cell_type": "markdown",
      "metadata": {
        "id": "6hDPfjtM-xwQ",
        "colab_type": "text"
      },
      "source": [
        "### Function to convert an array to a csv"
      ]
    },
    {
      "cell_type": "code",
      "metadata": {
        "id": "ydGYEw_v-xwR",
        "colab_type": "code",
        "colab": {}
      },
      "source": [
        "def np2csv(arr):\n",
        "    csv = io.BytesIO()\n",
        "    np.savetxt(csv, arr, delimiter=',', fmt='%g')\n",
        "    return csv.getvalue().decode().rstrip()"
      ],
      "execution_count": null,
      "outputs": []
    },
    {
      "cell_type": "markdown",
      "metadata": {
        "id": "TvZcATD_-xwa",
        "colab_type": "text"
      },
      "source": [
        "Next, we'll invoke the endpoint to get predictions."
      ]
    },
    {
      "cell_type": "code",
      "metadata": {
        "id": "ChYW7deB-xwc",
        "colab_type": "code",
        "colab": {}
      },
      "source": [
        "runtime= boto3.client('runtime.sagemaker')\n",
        "\n",
        "payload = np2csv(test_X)\n",
        "response = runtime.invoke_endpoint(EndpointName=linear_endpoint,\n",
        "                                   ContentType='text/csv',\n",
        "                                   Body=payload)\n",
        "result = json.loads(response['Body'].read().decode())\n",
        "test_pred = np.array([r['score'] for r in result['predictions']])"
      ],
      "execution_count": null,
      "outputs": []
    },
    {
      "cell_type": "markdown",
      "metadata": {
        "id": "JUSejqHy-xwo",
        "colab_type": "text"
      },
      "source": [
        "Let's compare linear learner based mean absolute prediction errors from a baseline prediction which uses majority class to predict every instance."
      ]
    },
    {
      "cell_type": "code",
      "metadata": {
        "id": "jWx9IAlr-xwp",
        "colab_type": "code",
        "colab": {}
      },
      "source": [
        "test_mae_linear = np.mean(np.abs(test_y - test_pred))\n",
        "test_mae_baseline = np.mean(np.abs(test_y - np.median(train_y))) ## training median as baseline predictor\n",
        "\n",
        "print(\"Test MAE Baseline :\", round(test_mae_baseline, 3))\n",
        "print(\"Test MAE Linear:\", round(test_mae_linear,3))\n"
      ],
      "execution_count": null,
      "outputs": []
    },
    {
      "cell_type": "markdown",
      "metadata": {
        "id": "pbbcYR8R-xw6",
        "colab_type": "text"
      },
      "source": [
        "Let's compare predictive accuracy using a classification threshold of 0.5 for the predicted and compare against the majority class prediction from training data set"
      ]
    },
    {
      "cell_type": "code",
      "metadata": {
        "id": "EI95SJhJ-xw7",
        "colab_type": "code",
        "colab": {}
      },
      "source": [
        "test_pred_class = (test_pred > 0.5)+0;\n",
        "test_pred_baseline = np.repeat(np.median(train_y), len(test_y))\n",
        "\n",
        "prediction_accuracy = np.mean((test_y == test_pred_class))*100\n",
        "baseline_accuracy = np.mean((test_y == test_pred_baseline))*100\n",
        "\n",
        "print(\"Prediction Accuracy:\", round(prediction_accuracy,1), \"%\")\n",
        "print(\"Baseline Accuracy:\", round(baseline_accuracy,1), \"%\")"
      ],
      "execution_count": null,
      "outputs": []
    },
    {
      "cell_type": "markdown",
      "metadata": {
        "id": "35Ta_Ig2-xxA",
        "colab_type": "text"
      },
      "source": [
        "###### Run the cell below to delete endpoint once you are done."
      ]
    },
    {
      "cell_type": "code",
      "metadata": {
        "id": "Ms8-e_v_-xxB",
        "colab_type": "code",
        "colab": {}
      },
      "source": [
        "#sm.delete_endpoint(EndpointName=linear_endpoint)"
      ],
      "execution_count": null,
      "outputs": []
    },
    {
      "cell_type": "markdown",
      "metadata": {
        "id": "EWS5UZqd-xxI",
        "colab_type": "text"
      },
      "source": [
        "---\n",
        "## Extensions\n",
        "\n",
        "- Our linear model does a good job of predicting Crop prediciton and has an overall accuracy of close to 92%. We can re-run the model with different values of the hyper-parameters, loss functions etc and see if we get improved prediction. Re-running the model with further tweaks to these hyperparameters may provide more accurate out-of-sample predictions.\n",
        "- We also did not do much feature engineering. We can create additional features by considering cross-product/intreaction of multiple features, squaring or raising higher powers of the features to induce non-linear effects, etc. If we expand the features using non-linear terms and interactions, we can then tweak the regulaization parameter to optimize the expanded model and hence generate improved forecasts.\n",
        "- As a further extension, we can use many of non-linear models available through SageMaker such as XGBoost, MXNet etc.\n"
      ]
    }
  ]
}